{
 "cells": [
  {
   "cell_type": "code",
   "execution_count": 130,
   "metadata": {},
   "outputs": [],
   "source": [
    "# Following https://github.com/qiskit-community/qiskit-community-tutorials/blob/master/algorithms/shor_algorithm.ipynb\n",
    "# And also taking inspiration from https://github.com/Qiskit/textbook/blob/main/notebooks/ch-algorithms/shor.ipynb"
   ]
  },
  {
   "cell_type": "markdown",
   "metadata": {},
   "source": [
    "# Implementing Shor's Algorithm for N = 15"
   ]
  },
  {
   "cell_type": "code",
   "execution_count": 1,
   "metadata": {},
   "outputs": [
    {
     "data": {
      "text/plain": [
       "{'qiskit': '0.45.0', 'qiskit-aer': None, 'qiskit-ignis': None, 'qiskit-ibmq-provider': None, 'qiskit-nature': None, 'qiskit-finance': None, 'qiskit-optimization': None, 'qiskit-machine-learning': None}"
      ]
     },
     "execution_count": 1,
     "metadata": {},
     "output_type": "execute_result"
    }
   ],
   "source": [
    "import qiskit\n",
    "qiskit.__qiskit_version__"
   ]
  },
  {
   "cell_type": "code",
   "execution_count": 47,
   "metadata": {},
   "outputs": [],
   "source": [
    "from qiskit import BasicAer, execute\n",
    "from qiskit import QuantumCircuit, ClassicalRegister, QuantumRegister\n",
    "from qiskit.tools.visualization import plot_histogram\n",
    "import math"
   ]
  },
  {
   "cell_type": "code",
   "execution_count": 51,
   "metadata": {},
   "outputs": [],
   "source": [
    "def circuit_a_mod_15(qc: QuantumCircuit, qr: QuantumRegister, cr: ClassicalRegister, a: int):\n",
    "    \"\"\"\n",
    "    The circuit for a^1 mod 15, a \"subcircuit\" of the main order-finding circuit\n",
    "    \n",
    "    a is an integer less than 15 that is also coprime with 15\n",
    "    \"\"\"\n",
    "    \n",
    "    if a == 2:\n",
    "        # A CSWAP gate - first qbit is the control, second and third are the targets \n",
    "        qc.cswap(qr[4], qr[3], qr[2])\n",
    "        qc.cswap(qr[4], qr[2], qr[1])\n",
    "        qc.cswap(qr[4], qr[1], qr[0])\n",
    "    elif a == 7:\n",
    "        qc.cswap(qr[4], qr[1], qr[0])\n",
    "        qc.cswap(qr[4], qr[2], qr[1])\n",
    "        qc.cswap(qr[4], qr[3], qr[2])\n",
    "        # A CNOT gate - first qbit is the control, second is the target\n",
    "        qc.cx(qr[4], qr[3])\n",
    "        qc.cx(qr[4], qr[2])\n",
    "        qc.cx(qr[4], qr[1])\n",
    "        qc.cx(qr[4], qr[0])\n",
    "    elif a == 8:\n",
    "        qc.cswap(qc[4], qc[1], qc[0])\n",
    "        qc.cswap(qc[4], qc[2], qc[1])\n",
    "        qc.cswap(qc[4], qc[3], qc[2])\n",
    "    elif a == 11: # Because of the optimized circuit, this function is never called with a = 11, but this branch is included for completeness\n",
    "        qc.cswap(qc[4], qc[2], qc[0])\n",
    "        qc.cswap(qc[4], qc[3], qc[1])\n",
    "        qc.cx(qc[4], qc[3])\n",
    "        qc.cx(qc[4], qc[2])\n",
    "        qc.cx(qc[4], qc[1])\n",
    "        qc.cx(qc[4], qc[0])\n",
    "    elif a == 13:\n",
    "        qc.cswap(qc[4], qc[3], qc[2])\n",
    "        qc.cswap(qc[4], qc[2], qc[1])\n",
    "        qc.cswap(qc[4], qc[1], qc[0])\n",
    "        qc.cx(qc[4], qc[3])\n",
    "        qc.cx(qc[4], qc[2])\n",
    "        qc.cx(qc[4], qc[1])\n",
    "        qc.cx(qc[4], qc[0])\n",
    "    else:\n",
    "        raise ValueError(\"a must be less than and coprime with 15\")"
   ]
  },
  {
   "cell_type": "code",
   "execution_count": 52,
   "metadata": {},
   "outputs": [],
   "source": [
    "def circuit_11_period_15(qc: QuantumCircuit, qr: QuantumRegister, cr: ClassicalRegister):\n",
    "    \"\"\"\n",
    "    The circuit for finding the period of 11^r mod 15.\n",
    "\n",
    "    No parameter for `a` because this circuit is specifically for a = 11.\n",
    "\n",
    "    This is separate from the other order finding circuits for other values of a because this has design has been optimized for a = 11. \n",
    "    \"\"\"\n",
    "\n",
    "    # Initialize q_0 to |1>\n",
    "    qc.x(qr[0])\n",
    "\n",
    "    # Apply a^4 mod 15\n",
    "    qc.h(qr[4])\n",
    "    # Controlled identity gate - q_4 is control, the rest are targets\n",
    "    # But this is an identity gate. It doesn't do anything no matter the value of q_4.\n",
    "    qc.h(qr[4])\n",
    "    # Measure q_4\n",
    "    qc.measure(qr[4], cr[0])\n",
    "    # Reinitialize q_4 to |0>\n",
    "    qc.reset(qr[4])\n",
    "\n",
    "    # Apply a^2 mod 15\n",
    "    qc.h(qr[4])\n",
    "    # Controlled identity gate - q_4 is control, the rest are targets\n",
    "    # But this is an identity gate. It doesn't do anything no matter the value of q_4.\n",
    "    # Feed forward\n",
    "    # Rotate q_4 by pi/2 if the classical register has the value 1 from the first measurement of q_4\n",
    "    qc.p(math.pi/2, qr[4]).c_if(cr, 1)\n",
    "    qc.h(qr[4])\n",
    "    # Measure q_4\n",
    "    qc.measure(qr[4], cr[1])\n",
    "    # Reinitialize q_4 to |0>\n",
    "    qc.reset(qr[4])\n",
    "\n",
    "    # Apply 11 mod 15\n",
    "    qc.h(qr[4])\n",
    "    # CNOTs controlled by q_4 targetting q_3 and q_1\n",
    "    qc.cx(qr[4], qr[3])\n",
    "    qc.cx(qr[4], qr[1])\n",
    "    # Feed forward\n",
    "    # 4 possible values of the classical register:\n",
    "    # 00, 01, 10, 11 (the first bit is the first measurement of q_4, the second bit is the second measurement of q_4)\n",
    "    # rotation_amount = 0\n",
    "    # if cr[0] == 1: rotation_amount += math.pi/2\n",
    "    # if cr[1] == 1: rotation_amount += math.pi/4\n",
    "    qc.p(3*math.pi/4, qr[4]).c_if(cr, 3) # Rotating math.pi/2 + math.pi/4 = 3*math.pi/4 if the classical register has the value 3 (11 in binary)\n",
    "    qc.p(math.pi/2, qr[4]).c_if(cr, 2) # Rotating math.pi/2 if the classical register has the value 2 (10 in binary)\n",
    "    qc.p(math.pi/4, qr[4]).c_if(cr, 1) # Rotating math.pi/4 if the classical register has the value 1 (01 in binary)\n",
    "    qc.h(qr[4])\n",
    "    # Measure q_4\n",
    "    qc.measure(qr[4], cr[2])\n"
   ]
  },
  {
   "cell_type": "code",
   "execution_count": 53,
   "metadata": {},
   "outputs": [],
   "source": [
    "def circuit_a_period_15(qc: QuantumCircuit, qr: QuantumRegister, cr: ClassicalRegister, a: int):\n",
    "    \"\"\"\n",
    "    The circuit for a mod 15, a \"subcircuit\" of the main order-finding circuit\n",
    "    \n",
    "    a is an integer less than 15 that is also coprime with 15\n",
    "    \"\"\"\n",
    "\n",
    "    if a == 11:\n",
    "        # Use optimized circuit for 11 mod 15\n",
    "        circuit_11_period_15(qc, qr, cr)\n",
    "        return\n",
    "    \n",
    "    # Initialize q_0 to |1> (if you're reading from top to bottom, this is the 4th and final qbit)\n",
    "    qc.x(qr[0])\n",
    "\n",
    "    # Apply a^4 mod 15\n",
    "    qc.h(qr[4])\n",
    "    # Controlled identity gate - q_4 is control, the rest are targets\n",
    "    # But this is an identity gate. It doesn't do anything no matter the value of q_4.\n",
    "    qc.h(qr[4])\n",
    "    # Measure q_4\n",
    "    qc.measure(qr[4], cr[0])\n",
    "    # Reinitialize q_4 to |0>\n",
    "    qc.reset(qr[4])\n",
    "\n",
    "    # Apply a^2 mod 15\n",
    "    qc.h(qr[4])\n",
    "    # CNOTs controlled by q_4 targetting q_2 and q_0\n",
    "    qc.cx(qr[4], qr[2])\n",
    "    qc.cx(qr[4], qr[0])\n",
    "    # Feed forward\n",
    "    # Rotate q_4 by pi/2 if the classical register has the value 1 from the first measurement of q_4\n",
    "    qc.p(math.pi/2, qr[4]).c_if(cr, 1)\n",
    "    qc.h(qr[4])\n",
    "    # Measure q_4\n",
    "    qc.measure(qr[4], cr[1])\n",
    "    # Reinitialize q_4 to |0>\n",
    "    qc.reset(qr[4])\n",
    "\n",
    "    # Apply a mod 15\n",
    "    qc.h(qr[4])\n",
    "    # Controlled a_mod_15 gate - q_4 is control, the rest are targets\n",
    "    circuit_a_mod_15(qc, qr, cr, a)\n",
    "    # Feed forward\n",
    "    # 4 possible values of the classical register:\n",
    "    # 00, 01, 10, 11 (the first bit is the first measurement of q_4, the second bit is the second measurement of q_4)\n",
    "    # rotation_amount = 0\n",
    "    # if cr[0] == 1: rotation_amount += math.pi/2\n",
    "    # if cr[1] == 1: rotation_amount += math.pi/4\n",
    "    qc.p(3*math.pi/4, qr[4]).c_if(cr, 3) # Rotating math.pi/2 + math.pi/4 = 3*math.pi/4 if the classical register has the value 3 (11 in binary)\n",
    "    qc.p(math.pi/2, qr[4]).c_if(cr, 2) # Rotating math.pi/2 if the classical register has the value 2 (10 in binary)\n",
    "    qc.p(math.pi/4, qr[4]).c_if(cr, 1) # Rotating math.pi/4 if the classical register has the value 1 (01 in binary)\n",
    "    qc.h(qr[4])\n",
    "    # Measure q_4\n",
    "    qc.measure(qr[4], cr[2])\n"
   ]
  },
  {
   "cell_type": "markdown",
   "metadata": {},
   "source": [
    "## Building and running the circuit"
   ]
  },
  {
   "cell_type": "code",
   "execution_count": 121,
   "metadata": {},
   "outputs": [
    {
     "name": "stderr",
     "output_type": "stream",
     "text": [
      "d:\\Samihan\\Documents\\ASU\\Year 5\\Fall Semester\\CSE 598\\Project\\.venv\\Lib\\site-packages\\qiskit\\visualization\\circuit\\matplotlib.py:266: FutureWarning: The default matplotlib drawer scheme will be changed to \"iqp\" in a following release. To silence this warning, specify the current default explicitly as style=\"clifford\", or the new default as style=\"iqp\".\n",
      "  self._style, def_font_ratio = load_style(self._style)\n"
     ]
    },
    {
     "data": {
      "image/png": "[encoded data removed]",
      "text/plain": [
       "<Figure size 2126.94x535.111 with 1 Axes>"
      ]
     },
     "execution_count": 121,
     "metadata": {},
     "output_type": "execute_result"
    }
   ],
   "source": [
    "NUM_QUBITS = 5\n",
    "q = QuantumRegister(NUM_QUBITS, 'q')\n",
    "c = ClassicalRegister(5, 'c')\n",
    "\n",
    "# a_values_to_try = [2, 7, 8, 11, 13] # NOTE: Not all of these work (i.e. some throw an error and others don't find the factors nearly as quickly as a = 7 (or at all?)) \n",
    "a = 7\n",
    "\n",
    "shor_circuit = QuantumCircuit(q, c)\n",
    "circuit_a_period_15(shor_circuit, q, c, a)\n",
    "shor_circuit.draw(output='mpl')"
   ]
  },
  {
   "cell_type": "markdown",
   "metadata": {},
   "source": [
    "## Distribution of measurements"
   ]
  },
  {
   "cell_type": "code",
   "execution_count": 122,
   "metadata": {},
   "outputs": [
    {
     "data": {
      "image/png": "[encoded data removed]",
      "text/plain": [
       "<Figure size 700x500 with 1 Axes>"
      ]
     },
     "execution_count": 122,
     "metadata": {},
     "output_type": "execute_result"
    }
   ],
   "source": [
    "backend = BasicAer.get_backend('qasm_simulator')\n",
    "job = execute(shor_circuit, backend, shots=1024)\n",
    "result = job.result()\n",
    "data = result.get_counts(shor_circuit)\n",
    "plot_histogram(data)"
   ]
  },
  {
   "cell_type": "markdown",
   "metadata": {},
   "source": [
    "## Running queries iteratively to find the factors of N = 15"
   ]
  },
  {
   "cell_type": "code",
   "execution_count": 128,
   "metadata": {},
   "outputs": [
    {
     "name": "stdout",
     "output_type": "stream",
     "text": [
      "Measurement is 6\n",
      "Result of continued fraction expansion = 2/11\n",
      "Guess for r = 11\n",
      "Found factors p = 5, q = 3\n",
      "Required 1 queries of the circuit.\n"
     ]
    }
   ],
   "source": [
    "# Determine period from the results\n",
    "\n",
    "did_find_period = False\n",
    "\n",
    "from fractions import Fraction\n",
    "\n",
    "total_queries = 0\n",
    "\n",
    "while did_find_period is False:\n",
    "    total_queries += 1\n",
    "    job = execute(shor_circuit, backend, shots=1)\n",
    "    result = job.result()\n",
    "    data = result.get_counts(shor_circuit)\n",
    "    # Convert the measurement to an integer\n",
    "    # Binary string to decimal\n",
    "    decimal_measurement = int(list(data.keys())[0], 2)\n",
    "\n",
    "    # This is our clue from the lecture notes\n",
    "    # s = kN/L where N = 2^n (where n is the number of qubits), L is the period, and 0 <= k < L (randomly picked)\n",
    "    # Use the continued fraction method to approximate the fraction k/L in lowest terms\n",
    "\n",
    "    if decimal_measurement == 0:\n",
    "        # Any approximated fraction of 0 is 0, so we won't learn anything from this measurement\n",
    "        print(\"Measurement is 0, trying again\")\n",
    "        continue\n",
    "\n",
    "    print(f\"Measurement is {decimal_measurement}\")\n",
    "\n",
    "    # -> s/N = s/2^n ≈ k/L\n",
    "    # Get the continued fraction approximation of s/2^n and take the denominator as the guess for L\n",
    "    fraction = Fraction(decimal_measurement, 2**NUM_QUBITS).limit_denominator(15) # Limit the value of L to be less than 15 because we know the period has to be less than 15\n",
    "    print(f\"Result of continued fraction expansion = {fraction}\")\n",
    "\n",
    "    guess_for_r = fraction.denominator\n",
    "\n",
    "    print(f\"Guess for r = {guess_for_r}\")\n",
    "\n",
    "    # If R^2 mod N = 1, then we can solve for P and Q\n",
    "    # Otherwise, we'll have to try again\n",
    "    if (guess_for_r**2) % 15 != 1:\n",
    "        print(f\"r^2 mod 15 = {(guess_for_r**2) % 15} and not 1, trying again\")\n",
    "        continue\n",
    "    \n",
    "    # Solve for P and Q using the formula from the lecture notes\n",
    "    # P = gcd(r-1, N)\n",
    "    # Q = gcd(r+1, N)\n",
    "    p = math.gcd(guess_for_r - 1, 15)\n",
    "    q = math.gcd(guess_for_r + 1, 15)\n",
    "\n",
    "    if p != 1 and q != 1 and p*q == 15:\n",
    "        print(f\"Found factors p = {p}, q = {q}\")\n",
    "        print(f\"Required {total_queries} queries of the circuit.\")\n",
    "        did_find_period = True\n",
    "    "
   ]
  },
  {
   "cell_type": "code",
   "execution_count": null,
   "metadata": {},
   "outputs": [],
   "source": []
  }
 ],
 "metadata": {
  "kernelspec": {
   "display_name": ".venv",
   "language": "python",
   "name": "python3"
  },
  "language_info": {
   "codemirror_mode": {
    "name": "ipython",
    "version": 3
   },
   "file_extension": ".py",
   "mimetype": "text/x-python",
   "name": "python",
   "nbconvert_exporter": "python",
   "pygments_lexer": "ipython3",
   "version": "3.11.4"
  }
 },
 "nbformat": 4,
 "nbformat_minor": 2
}
