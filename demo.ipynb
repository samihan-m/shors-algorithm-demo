{
  "cells": [
    {
      "cell_type": "markdown",
      "metadata": {},
      "source": [
        "# Implementing Shor's Algorithm for N = 15"
      ]
    },
    {
      "cell_type": "code",
      "execution_count": 1,
      "metadata": {
        "colab": {
          "base_uri": "https://localhost:8080/"
        },
        "id": "Mm7ASZg6NafC",
        "outputId": "48885311-bc2a-4e28-b903-4d7ddf0c681a"
      },
      "outputs": [
        {
          "name": "stdout",
          "output_type": "stream",
          "text": [
            "Imports Successful\n"
          ]
        }
      ],
      "source": [
        "# Following a Qiskit Textbook tutorial: https://github.com/Qiskit/textbook/blob/main/notebooks/ch-algorithms/shor.ipynb\n",
        "\n",
        "import numpy as np\n",
        "from qiskit import QuantumCircuit, Aer, transpile\n",
        "from qiskit.visualization import plot_histogram\n",
        "from numpy.random import randint\n",
        "import pandas as pd\n",
        "from fractions import Fraction\n",
        "\n",
        "print(\"Imports Successful\")"
      ]
    },
    {
      "cell_type": "markdown",
      "metadata": {},
      "source": [
        "## This starts with a circuit implementing Quantum Phase Estimation.\n",
        "## First, a circuit implementing $U^x$ where $U$ is the unitary operator $U\\vert y\\rangle = \\vert ay \\bmod N \\rangle$:"
      ]
    },
    {
      "cell_type": "code",
      "execution_count": 2,
      "metadata": {
        "id": "2FWe9IfYNdrL"
      },
      "outputs": [],
      "source": [
        "def c_amod15(a, power):\n",
        "    \"\"\"The circuit for controlled multiplication by a mod 15, repeated power times.\"\"\"\n",
        "    # Note: different gates are used based on the value of a\n",
        "    if a not in [2,4,7,8,11,13]:\n",
        "        raise ValueError(\"'a' must be 2,4,7,8,11 or 13\")\n",
        "    # Creating an empty circuit with 4 qubits\n",
        "    U = QuantumCircuit(4)\n",
        "    # Repeating U `power` times where the gates composing U depends on `a`\n",
        "    for _iteration in range(power):\n",
        "        if a in [2,13]:\n",
        "            U.swap(2,3)\n",
        "            U.swap(1,2)\n",
        "            U.swap(0,1)\n",
        "        if a in [7,8]:\n",
        "            U.swap(0,1)\n",
        "            U.swap(1,2)\n",
        "            U.swap(2,3)\n",
        "        if a in [4, 11]:\n",
        "            U.swap(1,3)\n",
        "            U.swap(0,2)\n",
        "        if a in [7,11,13]:\n",
        "            for q in range(4):\n",
        "                U.x(q)\n",
        "    # Convert the circuit we just built into a gate\n",
        "    U = U.to_gate()\n",
        "    # Name the gate for displaying purposes\n",
        "    U.name = f\"{a}^{power} mod 15\"\n",
        "    # Return a controlled version of the gate\n",
        "    c_U = U.control()\n",
        "    return c_U"
      ]
    },
    {
      "cell_type": "markdown",
      "metadata": {},
      "source": [
        "## Defining the number of qubits we will be using: 8\n",
        "<!-- ### (4 for the quantum register and 4 for the classical register) -->"
      ]
    },
    {
      "cell_type": "code",
      "execution_count": 3,
      "metadata": {
        "id": "8udSTyMhNiUW"
      },
      "outputs": [],
      "source": [
        "# Specify variables\n",
        "N_COUNT = 8  # number of counting qubits"
      ]
    },
    {
      "cell_type": "markdown",
      "metadata": {},
      "source": [
        "## Next, a circuit implementing the inverse Quantum Fourier Transform:"
      ]
    },
    {
      "cell_type": "code",
      "execution_count": 4,
      "metadata": {
        "id": "uFenpJUBNlGJ"
      },
      "outputs": [],
      "source": [
        "def qft_dagger(n):\n",
        "    \"\"\"The circuit for QFT† on n qubits.\"\"\"\n",
        "    qc = QuantumCircuit(n)\n",
        "    # Don't forget the Swaps!\n",
        "    for qubit in range(n//2):\n",
        "        qc.swap(qubit, n-qubit-1)\n",
        "    for j in range(n):\n",
        "        for m in range(j):\n",
        "            qc.cp(-np.pi/float(2**(j-m)), m, j)\n",
        "        qc.h(j)\n",
        "    qc.name = \"QFT†\"\n",
        "    return qc"
      ]
    },
    {
      "cell_type": "markdown",
      "metadata": {},
      "source": [
        "## Visualizing the entire circuit for $a = 7$:"
      ]
    },
    {
      "cell_type": "code",
      "execution_count": 5,
      "metadata": {
        "colab": {
          "base_uri": "https://localhost:8080/",
          "height": 453
        },
        "id": "-sqLAQR1NpUC",
        "outputId": "b8a6d9b6-4192-46a6-b9db-5bfea286cd77"
      },
      "outputs": [
        {
          "data": {
            "text/html": [
              "<pre style=\"word-wrap: normal;white-space: pre;background: #fff0;line-height: 1.1;font-family: &quot;Courier New&quot;,Courier,monospace\">      ┌───┐                                                                                                                             ┌───────┐┌─┐                     \n",
              " q_0: ┤ H ├───────■─────────────────────────────────────────────────────────────────────────────────────────────────────────────────────┤0      ├┤M├─────────────────────\n",
              "      ├───┤       │                                                                                                                     │       │└╥┘┌─┐                  \n",
              " q_1: ┤ H ├───────┼──────────────■──────────────────────────────────────────────────────────────────────────────────────────────────────┤1      ├─╫─┤M├──────────────────\n",
              "      ├───┤       │              │                                                                                                      │       │ ║ └╥┘┌─┐               \n",
              " q_2: ┤ H ├───────┼──────────────┼──────────────■───────────────────────────────────────────────────────────────────────────────────────┤2      ├─╫──╫─┤M├───────────────\n",
              "      ├───┤       │              │              │                                                                                       │       │ ║  ║ └╥┘┌─┐            \n",
              " q_3: ┤ H ├───────┼──────────────┼──────────────┼──────────────■────────────────────────────────────────────────────────────────────────┤3      ├─╫──╫──╫─┤M├────────────\n",
              "      ├───┤       │              │              │              │                                                                        │  QFT† │ ║  ║  ║ └╥┘┌─┐         \n",
              " q_4: ┤ H ├───────┼──────────────┼──────────────┼──────────────┼──────────────■─────────────────────────────────────────────────────────┤4      ├─╫──╫──╫──╫─┤M├─────────\n",
              "      ├───┤       │              │              │              │              │                                                         │       │ ║  ║  ║  ║ └╥┘┌─┐      \n",
              " q_5: ┤ H ├───────┼──────────────┼──────────────┼──────────────┼──────────────┼───────────────■─────────────────────────────────────────┤5      ├─╫──╫──╫──╫──╫─┤M├──────\n",
              "      ├───┤       │              │              │              │              │               │                                         │       │ ║  ║  ║  ║  ║ └╥┘┌─┐   \n",
              " q_6: ┤ H ├───────┼──────────────┼──────────────┼──────────────┼──────────────┼───────────────┼───────────────■─────────────────────────┤6      ├─╫──╫──╫──╫──╫──╫─┤M├───\n",
              "      ├───┤       │              │              │              │              │               │               │                         │       │ ║  ║  ║  ║  ║  ║ └╥┘┌─┐\n",
              " q_7: ┤ H ├───────┼──────────────┼──────────────┼──────────────┼──────────────┼───────────────┼───────────────┼────────────────■────────┤7      ├─╫──╫──╫──╫──╫──╫──╫─┤M├\n",
              "      ├───┤┌──────┴──────┐┌──────┴──────┐┌──────┴──────┐┌──────┴──────┐┌──────┴───────┐┌──────┴───────┐┌──────┴───────┐┌───────┴───────┐└───────┘ ║  ║  ║  ║  ║  ║  ║ └╥┘\n",
              " q_8: ┤ X ├┤0            ├┤0            ├┤0            ├┤0            ├┤0             ├┤0             ├┤0             ├┤0              ├──────────╫──╫──╫──╫──╫──╫──╫──╫─\n",
              "      └───┘│             ││             ││             ││             ││              ││              ││              ││               │          ║  ║  ║  ║  ║  ║  ║  ║ \n",
              " q_9: ─────┤1            ├┤1            ├┤1            ├┤1            ├┤1             ├┤1             ├┤1             ├┤1              ├──────────╫──╫──╫──╫──╫──╫──╫──╫─\n",
              "           │  7^1 mod 15 ││  7^2 mod 15 ││  7^4 mod 15 ││  7^8 mod 15 ││  7^16 mod 15 ││  7^32 mod 15 ││  7^64 mod 15 ││  7^128 mod 15 │          ║  ║  ║  ║  ║  ║  ║  ║ \n",
              "q_10: ─────┤2            ├┤2            ├┤2            ├┤2            ├┤2             ├┤2             ├┤2             ├┤2              ├──────────╫──╫──╫──╫──╫──╫──╫──╫─\n",
              "           │             ││             ││             ││             ││              ││              ││              ││               │          ║  ║  ║  ║  ║  ║  ║  ║ \n",
              "q_11: ─────┤3            ├┤3            ├┤3            ├┤3            ├┤3             ├┤3             ├┤3             ├┤3              ├──────────╫──╫──╫──╫──╫──╫──╫──╫─\n",
              "           └─────────────┘└─────────────┘└─────────────┘└─────────────┘└──────────────┘└──────────────┘└──────────────┘└───────────────┘          ║  ║  ║  ║  ║  ║  ║  ║ \n",
              " c: 8/════════════════════════════════════════════════════════════════════════════════════════════════════════════════════════════════════════════╩══╩══╩══╩══╩══╩══╩══╩═\n",
              "                                                                                                                                                  0  1  2  3  4  5  6  7 </pre>"
            ],
            "text/plain": [
              "      ┌───┐                                                                                                                             ┌───────┐┌─┐                     \n",
              " q_0: ┤ H ├───────■─────────────────────────────────────────────────────────────────────────────────────────────────────────────────────┤0      ├┤M├─────────────────────\n",
              "      ├───┤       │                                                                                                                     │       │└╥┘┌─┐                  \n",
              " q_1: ┤ H ├───────┼──────────────■──────────────────────────────────────────────────────────────────────────────────────────────────────┤1      ├─╫─┤M├──────────────────\n",
              "      ├───┤       │              │                                                                                                      │       │ ║ └╥┘┌─┐               \n",
              " q_2: ┤ H ├───────┼──────────────┼──────────────■───────────────────────────────────────────────────────────────────────────────────────┤2      ├─╫──╫─┤M├───────────────\n",
              "      ├───┤       │              │              │                                                                                       │       │ ║  ║ └╥┘┌─┐            \n",
              " q_3: ┤ H ├───────┼──────────────┼──────────────┼──────────────■────────────────────────────────────────────────────────────────────────┤3      ├─╫──╫──╫─┤M├────────────\n",
              "      ├───┤       │              │              │              │                                                                        │  QFT† │ ║  ║  ║ └╥┘┌─┐         \n",
              " q_4: ┤ H ├───────┼──────────────┼──────────────┼──────────────┼──────────────■─────────────────────────────────────────────────────────┤4      ├─╫──╫──╫──╫─┤M├─────────\n",
              "      ├───┤       │              │              │              │              │                                                         │       │ ║  ║  ║  ║ └╥┘┌─┐      \n",
              " q_5: ┤ H ├───────┼──────────────┼──────────────┼──────────────┼──────────────┼───────────────■─────────────────────────────────────────┤5      ├─╫──╫──╫──╫──╫─┤M├──────\n",
              "      ├───┤       │              │              │              │              │               │                                         │       │ ║  ║  ║  ║  ║ └╥┘┌─┐   \n",
              " q_6: ┤ H ├───────┼──────────────┼──────────────┼──────────────┼──────────────┼───────────────┼───────────────■─────────────────────────┤6      ├─╫──╫──╫──╫──╫──╫─┤M├───\n",
              "      ├───┤       │              │              │              │              │               │               │                         │       │ ║  ║  ║  ║  ║  ║ └╥┘┌─┐\n",
              " q_7: ┤ H ├───────┼──────────────┼──────────────┼──────────────┼──────────────┼───────────────┼───────────────┼────────────────■────────┤7      ├─╫──╫──╫──╫──╫──╫──╫─┤M├\n",
              "      ├───┤┌──────┴──────┐┌──────┴──────┐┌──────┴──────┐┌──────┴──────┐┌──────┴───────┐┌──────┴───────┐┌──────┴───────┐┌───────┴───────┐└───────┘ ║  ║  ║  ║  ║  ║  ║ └╥┘\n",
              " q_8: ┤ X ├┤0            ├┤0            ├┤0            ├┤0            ├┤0             ├┤0             ├┤0             ├┤0              ├──────────╫──╫──╫──╫──╫──╫──╫──╫─\n",
              "      └───┘│             ││             ││             ││             ││              ││              ││              ││               │          ║  ║  ║  ║  ║  ║  ║  ║ \n",
              " q_9: ─────┤1            ├┤1            ├┤1            ├┤1            ├┤1             ├┤1             ├┤1             ├┤1              ├──────────╫──╫──╫──╫──╫──╫──╫──╫─\n",
              "           │  7^1 mod 15 ││  7^2 mod 15 ││  7^4 mod 15 ││  7^8 mod 15 ││  7^16 mod 15 ││  7^32 mod 15 ││  7^64 mod 15 ││  7^128 mod 15 │          ║  ║  ║  ║  ║  ║  ║  ║ \n",
              "q_10: ─────┤2            ├┤2            ├┤2            ├┤2            ├┤2             ├┤2             ├┤2             ├┤2              ├──────────╫──╫──╫──╫──╫──╫──╫──╫─\n",
              "           │             ││             ││             ││             ││              ││              ││              ││               │          ║  ║  ║  ║  ║  ║  ║  ║ \n",
              "q_11: ─────┤3            ├┤3            ├┤3            ├┤3            ├┤3             ├┤3             ├┤3             ├┤3              ├──────────╫──╫──╫──╫──╫──╫──╫──╫─\n",
              "           └─────────────┘└─────────────┘└─────────────┘└─────────────┘└──────────────┘└──────────────┘└──────────────┘└───────────────┘          ║  ║  ║  ║  ║  ║  ║  ║ \n",
              " c: 8/════════════════════════════════════════════════════════════════════════════════════════════════════════════════════════════════════════════╩══╩══╩══╩══╩══╩══╩══╩═\n",
              "                                                                                                                                                  0  1  2  3  4  5  6  7 "
            ]
          },
          "execution_count": 5,
          "metadata": {},
          "output_type": "execute_result"
        }
      ],
      "source": [
        "# Create QuantumCircuit with N_COUNT counting qubits\n",
        "# plus 4 qubits for U to use in it's subcircuit\n",
        "qc = QuantumCircuit(N_COUNT + 4, N_COUNT)\n",
        "a = 7\n",
        "\n",
        "\n",
        "# First, initialize counting qubits in state |+>\n",
        "for q in range(N_COUNT):\n",
        "    qc.h(q)\n",
        "\n",
        "# and auxiliary register in state |1>\n",
        "qc.x(N_COUNT)\n",
        "\n",
        "# Then, perform the controlled-U operations\n",
        "for q in range(N_COUNT):\n",
        "    qc.append(c_amod15(a, 2**q),\n",
        "             [q] + [i+N_COUNT for i in range(4)])\n",
        "\n",
        "# Then, perform the inverse QFT\n",
        "qc.append(qft_dagger(N_COUNT), range(N_COUNT))\n",
        "\n",
        "# Finally, measure all the counting qubits\n",
        "qc.measure(range(N_COUNT), range(N_COUNT))\n",
        "qc.draw(fold=-1)  # -1 means 'do not fold'"
      ]
    },
    {
      "cell_type": "markdown",
      "metadata": {},
      "source": [
        "## Visualizing the distribution of outputs over 1000 runs of the circuit:"
      ]
    },
    {
      "cell_type": "code",
      "execution_count": 6,
      "metadata": {
        "colab": {
          "base_uri": "https://localhost:8080/",
          "height": 530
        },
        "id": "kYVv4FhQNsEJ",
        "outputId": "d733e4a4-8aa8-49a6-be2b-5d144538c728"
      },
      "outputs": [
        {
          "data": {
            "image/png": "[encoded data removed]",
            "text/plain": [
              "<Figure size 700x500 with 1 Axes>"
            ]
          },
          "execution_count": 6,
          "metadata": {},
          "output_type": "execute_result"
        }
      ],
      "source": [
        "# here we are simulating the circuit 1000 times and reading outputs.\n",
        "aer_sim = Aer.get_backend('aer_simulator')\n",
        "t_qc = transpile(qc, aer_sim)\n",
        "counts = aer_sim.run(t_qc).result().get_counts()\n",
        "plot_histogram(counts)"
      ]
    },
    {
      "cell_type": "markdown",
      "metadata": {},
      "source": [
        "## Obtaining a phase estimation from the circuit outputs:"
      ]
    },
    {
      "cell_type": "code",
      "execution_count": 7,
      "metadata": {
        "colab": {
          "base_uri": "https://localhost:8080/"
        },
        "id": "zcnrMIlENurA",
        "outputId": "98627671-679f-4ccb-c19f-ee16b5de5145"
      },
      "outputs": [
        {
          "name": "stdout",
          "output_type": "stream",
          "text": [
            "            Register Output           Phase\n",
            "0  10000000(bin) = 128(dec)  128/256 = 0.50\n",
            "1  11000000(bin) = 192(dec)  192/256 = 0.75\n",
            "2  01000000(bin) =  64(dec)   64/256 = 0.25\n",
            "3  00000000(bin) =   0(dec)    0/256 = 0.00\n"
          ]
        }
      ],
      "source": [
        "rows, measured_phases = [], []\n",
        "# here phase means the measured output divided by N, i.e s/N ~= k/L\n",
        "for output in counts:\n",
        "    decimal = int(output, 2)  # Convert (base 2) bitstring to decimal\n",
        "    phase = decimal/(2**N_COUNT)  # Find corresponding eigenvalue by dividing by 2^n\n",
        "    measured_phases.append(phase)\n",
        "    # Add these values to the rows in our table:\n",
        "    rows.append([f\"{output}(bin) = {decimal:>3}(dec)\",\n",
        "                 f\"{decimal}/{2**N_COUNT} = {phase:.2f}\"])\n",
        "# Print the rows in a table\n",
        "headers=[\"Register Output\", \"Phase\"]\n",
        "df = pd.DataFrame(rows, columns=headers)\n",
        "print(df)"
      ]
    },
    {
      "cell_type": "markdown",
      "metadata": {},
      "source": [
        "## Using phase estimation to guess the order of $a$ modulo $N$:"
      ]
    },
    {
      "cell_type": "code",
      "execution_count": 8,
      "metadata": {
        "colab": {
          "base_uri": "https://localhost:8080/"
        },
        "id": "j7pI0ljZNxCF",
        "outputId": "f52a1412-8fe0-4d5d-a136-b559f203b215"
      },
      "outputs": [
        {
          "name": "stdout",
          "output_type": "stream",
          "text": [
            "   Phase Fraction  Guess for L\n",
            "0   0.50      1/2            2\n",
            "1   0.75      3/4            4\n",
            "2   0.25      1/4            4\n",
            "3   0.00      0/1            1\n"
          ]
        }
      ],
      "source": [
        "rows = []\n",
        "for phase in measured_phases:\n",
        "    # Performing continued fraction approximation up to N = 15\n",
        "    frac = Fraction(phase).limit_denominator(15)\n",
        "    # The fraction is approximated to some s/L where L is what we want\n",
        "    rows.append([phase,\n",
        "                 f\"{frac.numerator}/{frac.denominator}\",\n",
        "                 frac.denominator])\n",
        "# Print as a table\n",
        "headers=[\"Phase\", \"Fraction\", \"Guess for L\"]\n",
        "df = pd.DataFrame(rows, columns=headers)\n",
        "print(df)"
      ]
    },
    {
      "cell_type": "markdown",
      "metadata": {},
      "source": [
        "# Now, to factoring $N = 15$..."
      ]
    },
    {
      "cell_type": "code",
      "execution_count": 9,
      "metadata": {
        "id": "9FZByiN9N0gM"
      },
      "outputs": [],
      "source": [
        "# Re-asserting N = 15\n",
        "N = 15"
      ]
    },
    {
      "cell_type": "markdown",
      "metadata": {},
      "source": [
        "## by finding $L$ in $a^L$ modulo $N$ for some random $a$:"
      ]
    },
    {
      "cell_type": "code",
      "execution_count": 10,
      "metadata": {
        "colab": {
          "base_uri": "https://localhost:8080/"
        },
        "id": "V-5ULJ40ONAr",
        "outputId": "55e14447-0ca8-4ef2-d9b9-213c39b3193c"
      },
      "outputs": [
        {
          "name": "stdout",
          "output_type": "stream",
          "text": [
            "Chosen a=3\n"
          ]
        }
      ],
      "source": [
        "# Selecting a random number a < N\n",
        "a = randint(2, 15)\n",
        "print(f\"Chosen a={a}\")"
      ]
    },
    {
      "cell_type": "markdown",
      "metadata": {},
      "source": [
        "### If $a$ isn't coprime to $N$, we have a factor of $N$ already:"
      ]
    },
    {
      "cell_type": "code",
      "execution_count": 11,
      "metadata": {
        "colab": {
          "base_uri": "https://localhost:8080/"
        },
        "id": "td1Bd4sdOJeH",
        "outputId": "2aebe833-bb89-4281-b24e-210b61f4e477"
      },
      "outputs": [
        {
          "name": "stdout",
          "output_type": "stream",
          "text": [
            "a is 6\n",
            "Found a factor of 15: 3\n",
            "Factors of 15: 3, 5\n"
          ]
        }
      ],
      "source": [
        "from math import gcd # greatest common divisor\n",
        "\n",
        "# Demonstrating what happens if a is not coprime with N\n",
        "a = 6\n",
        "\n",
        "greatest_common_divisor = gcd(a, N)\n",
        "\n",
        "print(f\"a is {a}\")\n",
        "print(f\"Found a factor of {N}: {greatest_common_divisor}\")\n",
        "print(f\"Factors of {N}: {greatest_common_divisor}, {N//greatest_common_divisor}\")"
      ]
    },
    {
      "cell_type": "markdown",
      "metadata": {},
      "source": [
        "## For demonstration, selecting a random $a$ that is coprime to $N$:"
      ]
    },
    {
      "cell_type": "code",
      "execution_count": 12,
      "metadata": {},
      "outputs": [],
      "source": [
        "def get_coprime_a():\n",
        "    \"\"\"Returns a coprime value for `a` for N=15\"\"\"\n",
        "    # A list of all coprime values for N=15\n",
        "    possible_a_values_for_N_15 = [2, 4, 7, 8, 11, 13]\n",
        "\n",
        "    # Selecting a random index from the list of possible values\n",
        "    index = randint(1, len(possible_a_values_for_N_15))\n",
        "\n",
        "    # Returning the coprime value for `a`\n",
        "    a = possible_a_values_for_N_15[index]\n",
        "    print(f\"Chosen a={a}\")\n",
        "    return a"
      ]
    },
    {
      "cell_type": "markdown",
      "metadata": {},
      "source": [
        "## Redefining our quantum phase estimation circuit to work with random values of $a$:"
      ]
    },
    {
      "cell_type": "code",
      "execution_count": 13,
      "metadata": {
        "id": "75gZZxsPOQ_3"
      },
      "outputs": [],
      "source": [
        "def qpe_amod15(a):\n",
        "    \"\"\"Creates the circuit for performing quantum phase estimation on the operation a*r mod 15 and returns the phase.\n",
        "    Args:\n",
        "        a (int): This is 'a' in a*r mod 15\n",
        "    Returns:\n",
        "        float: Estimate of the phase\n",
        "    \"\"\"\n",
        "    # Number of qubits\n",
        "    N_COUNT = 8\n",
        "    # Creating an empty circuit with N_COUNT counting qubits and 4 qubits for U\n",
        "    qc = QuantumCircuit(4+N_COUNT, N_COUNT)\n",
        "\n",
        "    # Initialize counting qubits in state |+>\n",
        "    for q in range(N_COUNT):\n",
        "        qc.h(q)\n",
        "    # and auxiliary register in state |1>\n",
        "    qc.x(3+N_COUNT)\n",
        "\n",
        "    # Then, perform controlled-U operations\n",
        "    for q in range(N_COUNT):\n",
        "        qc.append(c_amod15(a, 2**q), [q] + [i+N_COUNT for i in range(4)])\n",
        "    \n",
        "    # Then, perform the inverse QFT\n",
        "    qc.append(qft_dagger(N_COUNT), range(N_COUNT))\n",
        "\n",
        "    # Finally, measure all the counting qubits\n",
        "    qc.measure(range(N_COUNT), range(N_COUNT))\n",
        "\n",
        "\n",
        "    # Simulate running the circuit\n",
        "    aer_sim = Aer.get_backend('aer_simulator')\n",
        "    # `memory=True` tells the backend to save each measurement in a list\n",
        "    job = aer_sim.run(transpile(qc, aer_sim), shots=1, memory=True)\n",
        "    # Get the list of measurements\n",
        "    readings = job.result().get_memory()\n",
        "    # Read the first measurement (we only ran the circuit once, so this is the only measurement)\n",
        "    print(\"Circuit Output: \" + readings[0])\n",
        "    # Convert the bitstring into decimal and divide it by 2^n, like we did above\n",
        "    phase = int(readings[0],2)/(2**N_COUNT)\n",
        "    # Return the phase\n",
        "    print(f\"Corresponding Phase: {phase}\")\n",
        "    return phase"
      ]
    },
    {
      "cell_type": "markdown",
      "metadata": {},
      "source": [
        "## Running the circuit for our random $a$, obtaining $L$ via continued fraction approximation, and guessing the factors of $N$:"
      ]
    },
    {
      "cell_type": "code",
      "execution_count": 14,
      "metadata": {
        "colab": {
          "base_uri": "https://localhost:8080/"
        },
        "id": "YcfXxz-lOXGw",
        "outputId": "898d91d9-5af1-422d-aad9-c1913d087b15"
      },
      "outputs": [
        {
          "name": "stdout",
          "output_type": "stream",
          "text": [
            "Chosen a=7\n",
            "a = 7\n"
          ]
        },
        {
          "name": "stdout",
          "output_type": "stream",
          "text": [
            "Circuit Output: 01000000\n",
            "Corresponding Phase: 0.25\n",
            "L = 4\n",
            "Guessed Factors: [3, 5]\n",
            "Success!\n"
          ]
        }
      ],
      "source": [
        "a = get_coprime_a()\n",
        "print(f\"a = {a}\")\n",
        "phase = qpe_amod15(a) # Phase = k/L\n",
        "frac = Fraction(phase).limit_denominator(15)\n",
        "s, L = frac.numerator, frac.denominator\n",
        "print(f\"L = {L}\")\n",
        "guesses = [gcd(a**(L//2)-1, N), gcd(a**(L//2)+1, N)]\n",
        "print(f\"Guessed Factors: {guesses}\")\n",
        "\n",
        "if 3 in guesses and 5 in guesses:\n",
        "    print(\"Success!\")\n",
        "else:\n",
        "    print(\"Unsuccessful, try again.\")"
      ]
    }
  ],
  "metadata": {
    "colab": {
      "provenance": []
    },
    "kernelspec": {
      "display_name": "Python 3",
      "name": "python3"
    },
    "language_info": {
      "codemirror_mode": {
        "name": "ipython",
        "version": 3
      },
      "file_extension": ".py",
      "mimetype": "text/x-python",
      "name": "python",
      "nbconvert_exporter": "python",
      "pygments_lexer": "ipython3",
      "version": "3.11.4"
    }
  },
  "nbformat": 4,
  "nbformat_minor": 0
}
